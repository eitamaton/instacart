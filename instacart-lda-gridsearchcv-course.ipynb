{
 "cells": [
  {
   "cell_type": "markdown",
   "metadata": {},
   "source": [
    "# Latent Dirichlet Allocation GridSearchCV Part 1: Coarse Search\n",
    "\n",
    "In this notebook and the following Fine search, we consider appropriate parameters for constructing Latent Dirichlet Allocation topics from the matrix of user-product purchase counts."
   ]
  },
  {
   "cell_type": "markdown",
   "metadata": {},
   "source": [
    "[Helpful tutorial](https://www.machinelearningplus.com/nlp/topic-modeling-python-sklearn-examples/)"
   ]
  },
  {
   "cell_type": "markdown",
   "metadata": {},
   "source": [
    "## Load Data"
   ]
  },
  {
   "cell_type": "code",
   "execution_count": 1,
   "metadata": {
    "_cell_guid": "b1076dfc-b9ad-4769-8c92-a6c4dae69d19",
    "_uuid": "8f2839f25d086af736a60e9eeb907d3b93b6e0e5"
   },
   "outputs": [],
   "source": [
    "import pandas as pd\n",
    "import numpy as np\n",
    "import seaborn as sns\n",
    "import matplotlib.pyplot as plt\n",
    "\n",
    "pd.options.display.latex.repr=True\n",
    "\n",
    "from sklearn.model_selection import GridSearchCV\n",
    "from sklearn.decomposition import LatentDirichletAllocation\n",
    "\n",
    "file_path = '../input/'\n",
    "\n",
    "load_data_dtype = {'order_id': np.uint32,\n",
    "                   'user_id': np.uint32,\n",
    "                   'eval_set': 'category',\n",
    "                   'order_number': np.uint8,\n",
    "                   'order_dow': np.uint8,\n",
    "                   'order_hour_of_day': np.uint8,\n",
    "                   # pandas 'gotcha'; leave as float:\n",
    "                   'days_since_prior_order': np.float16,\n",
    "                   'product_id': np.uint16,\n",
    "                   'add_to_cart_order': np.uint8,\n",
    "                   'reordered': np.bool\n",
    "                   }\n",
    "\n",
    "df_aisles = pd.read_csv(file_path + 'aisles.csv')\n",
    "df_departments = pd.read_csv(file_path + 'departments.csv')\n",
    "df_products = pd.read_csv(file_path + 'products.csv')\n",
    "\n",
    "# Specify dtype to reduce memory utilization\n",
    "df_order_products_prior = pd.read_csv(file_path + 'order_products__prior.csv',\n",
    "                                      dtype=load_data_dtype\n",
    "                                      )\n",
    "df_order_products_train = pd.read_csv(file_path + 'order_products__train.csv',\n",
    "                                      dtype=load_data_dtype\n",
    "                                      )\n",
    "df_orders = pd.read_csv(file_path + 'orders.csv',\n",
    "                        dtype=load_data_dtype\n",
    "                        )\n",
    "\n",
    "# df_prior = full products from all prior orders \n",
    "df_prior = pd.merge(df_orders[df_orders['eval_set'] == 'prior'],\n",
    "              df_order_products_prior,\n",
    "              on='order_id'\n",
    "              )"
   ]
  },
  {
   "cell_type": "code",
   "execution_count": 2,
   "metadata": {
    "_cell_guid": "79c7e3d0-c299-4dcb-8224-4455121ee9b0",
    "_uuid": "d629ff2d2480ee46fbb7e2d37f6b5fab8052498a"
   },
   "outputs": [],
   "source": [
    "from sklearn.model_selection import train_test_split\n",
    "\n",
    "# Names of dataset partitions\n",
    "dsets = ['train',\n",
    "         'test',\n",
    "         'kaggle']\n",
    "\n",
    "users = dict.fromkeys(dsets)\n",
    "\n",
    "# Use sklearn utility to partition project users into train and test user lists.\n",
    "users['train'], users['test'] = train_test_split(list(df_orders[df_orders.eval_set == 'train']['user_id']),\n",
    "                                                 test_size=0.2,\n",
    "                                           random_state=20190513)\n",
    "\n",
    "# Kaggle submissions test set\n",
    "users['kaggle'] = list(df_orders[df_orders.eval_set == 'test']['user_id'])#.to_list()"
   ]
  },
  {
   "cell_type": "code",
   "execution_count": 3,
   "metadata": {},
   "outputs": [],
   "source": [
    "# Split DataFrames we will use in feature construction into dicts of DataFrames\n",
    "prior = dict.fromkeys(dsets)\n",
    "orders = dict.fromkeys(dsets)\n",
    "\n",
    "for ds in dsets:\n",
    "    prior[ds] = df_prior[df_prior['user_id'].isin(users[ds])]\n",
    "    orders[ds] = df_orders[df_orders['user_id'].isin(users[ds]) & (df_orders.eval_set == 'prior')]"
   ]
  },
  {
   "cell_type": "code",
   "execution_count": 4,
   "metadata": {},
   "outputs": [],
   "source": [
    "# scipy sparse matrix of number of times particular user has ordered particular product\n",
    "UP_orders_num = dict.fromkeys(dsets)\n",
    "\n",
    "for ds in dsets:\n",
    "    UP_orders_num[ds], _, _ = (prior[ds].groupby(['user_id', 'product_id'])['order_id']\n",
    "                             .count()\n",
    "                             .apply(pd.to_numeric, downcast='unsigned')\n",
    "                             .to_sparse()\n",
    "                             .to_coo())"
   ]
  },
  {
   "cell_type": "code",
   "execution_count": 5,
   "metadata": {},
   "outputs": [],
   "source": [
    "del (df_aisles,\n",
    "     df_departments,\n",
    "     df_order_products_prior,\n",
    "     df_order_products_train,\n",
    "     df_orders,\n",
    "     df_prior,\n",
    "     df_products,\n",
    "     prior,\n",
    "     orders)"
   ]
  },
  {
   "cell_type": "markdown",
   "metadata": {},
   "source": [
    "## GridSearchCV"
   ]
  },
  {
   "cell_type": "markdown",
   "metadata": {},
   "source": [
    "### n_components"
   ]
  },
  {
   "cell_type": "code",
   "execution_count": 6,
   "metadata": {},
   "outputs": [
    {
     "data": {
      "text/plain": [
       "GridSearchCV(cv=3, error_score='raise-deprecating',\n",
       "       estimator=LatentDirichletAllocation(batch_size=128, doc_topic_prior=None,\n",
       "             evaluate_every=-1, learning_decay=0.7,\n",
       "             learning_method='online', learning_offset=10.0,\n",
       "             max_doc_update_iter=100, max_iter=10, mean_change_tol=0.001,\n",
       "             n_components=10, n_jobs=1, n_topics=None, perp_tol=0.1,\n",
       "             random_state=None, topic_word_prior=None,\n",
       "             total_samples=1000000.0, verbose=0),\n",
       "       fit_params=None, iid='warn', n_jobs=None,\n",
       "       param_grid={'n_components': [5, 10, 15, 20]},\n",
       "       pre_dispatch='2*n_jobs', refit=True, return_train_score=False,\n",
       "       scoring=None, verbose=0)"
      ]
     },
     "execution_count": 6,
     "metadata": {},
     "output_type": "execute_result"
    }
   ],
   "source": [
    "param = 'n_components'\n",
    "vals = [5, 10, 15, 20]\n",
    "\n",
    "params = {\n",
    "    param: vals\n",
    "}\n",
    "\n",
    "lda = LatentDirichletAllocation(n_jobs=1, # need more disk? PickleError\n",
    "                                learning_method='online'\n",
    "                               )\n",
    "\n",
    "lda_search = GridSearchCV(lda,\n",
    "                          param_grid=params,\n",
    "                          cv=3,\n",
    "                          return_train_score=False)\n",
    "\n",
    "lda_search.fit(UP_orders_num['train'])"
   ]
  },
  {
   "cell_type": "code",
   "execution_count": 7,
   "metadata": {},
   "outputs": [
    {
     "data": {
      "image/png": "[encoded data removed]",
      "text/plain": [
       "<Figure size 720x576 with 1 Axes>"
      ]
     },
     "metadata": {},
     "output_type": "display_data"
    }
   ],
   "source": [
    "results = pd.DataFrame(lda_search.cv_results_)\n",
    "\n",
    "current_palette = sns.color_palette()\n",
    "\n",
    "plt.figure(figsize=(10,8))\n",
    "sns.lineplot(data=results,\n",
    "             x=('param_' + param),\n",
    "             y='mean_test_score',\n",
    "             marker='o')\n",
    "plt.title(param + \" scores\")\n",
    "plt.errorbar(x=results[('param_' + param)],\n",
    "             y=results.mean_test_score,\n",
    "             yerr=results.std_test_score,\n",
    "             fmt='none',\n",
    "             color=current_palette[0])\n",
    "plt.show()"
   ]
  },
  {
   "cell_type": "markdown",
   "metadata": {},
   "source": [
    "`n_components = 15` looks best though `n_components = 10` may be reasonable (and would only add ten columns to the feature matrix)."
   ]
  },
  {
   "cell_type": "markdown",
   "metadata": {},
   "source": [
    "### max_iter"
   ]
  },
  {
   "cell_type": "code",
   "execution_count": 8,
   "metadata": {},
   "outputs": [
    {
     "data": {
      "text/plain": [
       "GridSearchCV(cv=3, error_score='raise-deprecating',\n",
       "       estimator=LatentDirichletAllocation(batch_size=128, doc_topic_prior=None,\n",
       "             evaluate_every=-1, learning_decay=0.7,\n",
       "             learning_method='online', learning_offset=10.0,\n",
       "             max_doc_update_iter=100, max_iter=10, mean_change_tol=0.001,\n",
       "             n_components=10, n_jobs=1, n_topics=None, perp_tol=0.1,\n",
       "             random_state=None, topic_word_prior=None,\n",
       "             total_samples=1000000.0, verbose=0),\n",
       "       fit_params=None, iid='warn', n_jobs=None,\n",
       "       param_grid={'max_iter': [10, 20, 30]}, pre_dispatch='2*n_jobs',\n",
       "       refit=True, return_train_score=False, scoring=None, verbose=0)"
      ]
     },
     "execution_count": 8,
     "metadata": {},
     "output_type": "execute_result"
    }
   ],
   "source": [
    "param = 'max_iter'\n",
    "vals = [10, 20, 30]\n",
    "\n",
    "params = {\n",
    "    param: vals\n",
    "}\n",
    "\n",
    "lda = LatentDirichletAllocation(n_jobs=1, # need more disk? PickleError\n",
    "                                learning_method='online',\n",
    "                                # Choose values from above search\n",
    "                                n_components=10\n",
    "                               )\n",
    "\n",
    "lda_search = GridSearchCV(lda,\n",
    "                          param_grid=params,\n",
    "                          cv=3,\n",
    "                          return_train_score=False\n",
    "                         )\n",
    "\n",
    "lda_search.fit(UP_orders_num['train'])"
   ]
  },
  {
   "cell_type": "code",
   "execution_count": 9,
   "metadata": {},
   "outputs": [
    {
     "data": {
      "image/png": "[encoded data removed]",
      "text/plain": [
       "<Figure size 720x576 with 1 Axes>"
      ]
     },
     "metadata": {},
     "output_type": "display_data"
    }
   ],
   "source": [
    "results = pd.DataFrame(lda_search.cv_results_)\n",
    "\n",
    "current_palette = sns.color_palette()\n",
    "\n",
    "plt.figure(figsize=(10,8))\n",
    "sns.lineplot(data=results,\n",
    "             x=('param_' + param),\n",
    "             y='mean_test_score',\n",
    "             marker='o')\n",
    "plt.title(param + \" scores\")\n",
    "plt.errorbar(x=results[('param_' + param)],\n",
    "             y=results.mean_test_score,\n",
    "             yerr=results.std_test_score,\n",
    "             fmt='none',\n",
    "             color=current_palette[0])\n",
    "plt.show()"
   ]
  },
  {
   "cell_type": "markdown",
   "metadata": {},
   "source": [
    "`max_iter` seems not to make a difference in score. Leave the default `max_iter = 10`."
   ]
  },
  {
   "cell_type": "markdown",
   "metadata": {},
   "source": [
    "### learning_decay"
   ]
  },
  {
   "cell_type": "code",
   "execution_count": 10,
   "metadata": {},
   "outputs": [
    {
     "data": {
      "text/plain": [
       "GridSearchCV(cv=3, error_score='raise-deprecating',\n",
       "       estimator=LatentDirichletAllocation(batch_size=128, doc_topic_prior=None,\n",
       "             evaluate_every=-1, learning_decay=0.7,\n",
       "             learning_method='online', learning_offset=10.0,\n",
       "             max_doc_update_iter=100, max_iter=10, mean_change_tol=0.001,\n",
       "             n_components=10, n_jobs=1, n_topics=None, perp_tol=0.1,\n",
       "             random_state=None, topic_word_prior=None,\n",
       "             total_samples=1000000.0, verbose=0),\n",
       "       fit_params=None, iid='warn', n_jobs=None,\n",
       "       param_grid={'learning_decay': [0.5, 0.7, 0.9]},\n",
       "       pre_dispatch='2*n_jobs', refit=True, return_train_score=False,\n",
       "       scoring=None, verbose=0)"
      ]
     },
     "execution_count": 10,
     "metadata": {},
     "output_type": "execute_result"
    }
   ],
   "source": [
    "param = 'learning_decay'\n",
    "vals = [.5, .7, .9]\n",
    "\n",
    "params = {\n",
    "    param: vals\n",
    "}\n",
    "\n",
    "lda = LatentDirichletAllocation(n_jobs=1, # need more disk? PickleError\n",
    "                                learning_method='online',\n",
    "                                # Choose values from above search\n",
    "                                n_components=10,\n",
    "                                max_iter=10                                \n",
    "                               )\n",
    "\n",
    "\n",
    "\n",
    "lda_search = GridSearchCV(lda,\n",
    "                          param_grid=params,\n",
    "                          cv=3,\n",
    "                          return_train_score=False\n",
    "                         )\n",
    "\n",
    "lda_search.fit(UP_orders_num['train'])"
   ]
  },
  {
   "cell_type": "code",
   "execution_count": 11,
   "metadata": {},
   "outputs": [
    {
     "data": {
      "image/png": "[encoded data removed]",
      "text/plain": [
       "<Figure size 720x576 with 1 Axes>"
      ]
     },
     "metadata": {},
     "output_type": "display_data"
    }
   ],
   "source": [
    "results = pd.DataFrame(lda_search.cv_results_)\n",
    "\n",
    "current_palette = sns.color_palette()\n",
    "\n",
    "plt.figure(figsize=(10,8))\n",
    "sns.lineplot(data=results,\n",
    "             x=('param_' + param),\n",
    "             y='mean_test_score',\n",
    "             marker='o')\n",
    "plt.title(param + \" scores\")\n",
    "plt.errorbar(x=results[('param_' + param)],\n",
    "             y=results.mean_test_score,\n",
    "             yerr=results.std_test_score,\n",
    "             fmt='none',\n",
    "             color=current_palette[0])\n",
    "plt.show()"
   ]
  },
  {
   "cell_type": "markdown",
   "metadata": {},
   "source": [
    "Somewhere between `learning_decay = 0.7` and `learning_decay = 0.9` looks to yield the best score."
   ]
  },
  {
   "cell_type": "markdown",
   "metadata": {},
   "source": [
    "Part 2 consists of a finer search near `learning_decay = 0.7` and `n_components = 10`. Stay tuned."
   ]
  }
 ],
 "metadata": {
  "kernelspec": {
   "display_name": "Python 3",
   "language": "python",
   "name": "python3"
  },
  "language_info": {
   "codemirror_mode": {
    "name": "ipython",
    "version": 3
   },
   "file_extension": ".py",
   "mimetype": "text/x-python",
   "name": "python",
   "nbconvert_exporter": "python",
   "pygments_lexer": "ipython3",
   "version": "3.6.4"
  }
 },
 "nbformat": 4,
 "nbformat_minor": 1
}
