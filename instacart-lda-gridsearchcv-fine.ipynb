{
 "cells": [
  {
   "cell_type": "markdown",
   "metadata": {},
   "source": [
    "# Latent Dirichlet Allocation GridSearchCV Part 2: Fine Search"
   ]
  },
  {
   "cell_type": "markdown",
   "metadata": {},
   "source": [
    "While the score is better at `n_components = 12`, and is likely even better closer to `n_components = 15`, `n_components = 10` and `learning_decay = 0.85` (or greater) seem reasonable."
   ]
  },
  {
   "cell_type": "code",
   "execution_count": 1,
   "metadata": {
    "_cell_guid": "b1076dfc-b9ad-4769-8c92-a6c4dae69d19",
    "_uuid": "8f2839f25d086af736a60e9eeb907d3b93b6e0e5"
   },
   "outputs": [],
   "source": [
    "import pandas as pd\n",
    "import numpy as np\n",
    "import seaborn as sns\n",
    "import matplotlib.pyplot as plt\n",
    "\n",
    "pd.options.display.latex.repr=True\n",
    "\n",
    "file_path = '../input/'\n",
    "\n",
    "load_data_dtype = {'order_id': np.uint32,\n",
    "                   'user_id': np.uint32,\n",
    "                   'eval_set': 'category',\n",
    "                   'order_number': np.uint8,\n",
    "                   'order_dow': np.uint8,\n",
    "                   'order_hour_of_day': np.uint8,\n",
    "                   # pandas 'gotcha'; leave as float:\n",
    "                   'days_since_prior_order': np.float16,\n",
    "                   'product_id': np.uint16,\n",
    "                   'add_to_cart_order': np.uint8,\n",
    "                   'reordered': np.bool\n",
    "                   }\n",
    "\n",
    "df_aisles = pd.read_csv(file_path + 'aisles.csv')\n",
    "df_departments = pd.read_csv(file_path + 'departments.csv')\n",
    "df_products = pd.read_csv(file_path + 'products.csv')\n",
    "\n",
    "# Specify dtype to reduce memory utilization\n",
    "df_order_products_prior = pd.read_csv(file_path + 'order_products__prior.csv',\n",
    "                                      dtype=load_data_dtype\n",
    "                                      )\n",
    "df_order_products_train = pd.read_csv(file_path + 'order_products__train.csv',\n",
    "                                      dtype=load_data_dtype\n",
    "                                      )\n",
    "df_orders = pd.read_csv(file_path + 'orders.csv',\n",
    "                        dtype=load_data_dtype\n",
    "                        )\n",
    "\n",
    "# df_prior = full products from all prior orders \n",
    "df_prior = pd.merge(df_orders[df_orders['eval_set'] == 'prior'],\n",
    "              df_order_products_prior,\n",
    "              on='order_id'\n",
    "              )"
   ]
  },
  {
   "cell_type": "code",
   "execution_count": 2,
   "metadata": {
    "_cell_guid": "79c7e3d0-c299-4dcb-8224-4455121ee9b0",
    "_uuid": "d629ff2d2480ee46fbb7e2d37f6b5fab8052498a"
   },
   "outputs": [],
   "source": [
    "from sklearn.model_selection import train_test_split\n",
    "\n",
    "# Names of dataset partitions\n",
    "dsets = ['train',\n",
    "         'test',\n",
    "         'kaggle']\n",
    "\n",
    "users = dict.fromkeys(dsets)\n",
    "\n",
    "# Use sklearn utility to partition project users into train and test user lists.\n",
    "users['train'], users['test'] = train_test_split(list(df_orders[df_orders.eval_set == 'train']['user_id']),\n",
    "                                                 test_size=0.2,\n",
    "                                           random_state=20190513)\n",
    "\n",
    "# Kaggle submissions test set\n",
    "users['kaggle'] = list(df_orders[df_orders.eval_set == 'test']['user_id'])#.to_list()"
   ]
  },
  {
   "cell_type": "code",
   "execution_count": 3,
   "metadata": {},
   "outputs": [],
   "source": [
    "# Split DataFrames we will use in feature construction into dicts of DataFrames\n",
    "prior = dict.fromkeys(dsets)\n",
    "orders = dict.fromkeys(dsets)\n",
    "\n",
    "for ds in dsets:\n",
    "    prior[ds] = df_prior[df_prior['user_id'].isin(users[ds])]\n",
    "    orders[ds] = df_orders[df_orders['user_id'].isin(users[ds]) & (df_orders.eval_set == 'prior')]"
   ]
  },
  {
   "cell_type": "code",
   "execution_count": 4,
   "metadata": {},
   "outputs": [],
   "source": [
    "# scipy sparse matrix of number of times particular user has ordered particular product\n",
    "UP_orders_num = dict.fromkeys(dsets)\n",
    "\n",
    "for ds in dsets:\n",
    "    UP_orders_num[ds], _, _ = (prior[ds].groupby(['user_id', 'product_id'])['order_id']\n",
    "                             .count()\n",
    "                             .apply(pd.to_numeric, downcast='unsigned')\n",
    "                             .to_sparse()\n",
    "                             .to_coo())"
   ]
  },
  {
   "cell_type": "code",
   "execution_count": 5,
   "metadata": {},
   "outputs": [],
   "source": [
    "del (df_aisles,\n",
    "     df_departments,\n",
    "     df_order_products_prior,\n",
    "     df_order_products_train,\n",
    "     df_orders,\n",
    "     df_prior,\n",
    "     df_products,\n",
    "     prior,\n",
    "     orders)"
   ]
  },
  {
   "cell_type": "code",
   "execution_count": 6,
   "metadata": {},
   "outputs": [],
   "source": [
    "from sklearn.decomposition import LatentDirichletAllocation\n",
    "\n",
    "lda = LatentDirichletAllocation(n_jobs=1, # need more disk? PickleError\n",
    "                                  learning_method='online'\n",
    "                               )"
   ]
  },
  {
   "cell_type": "code",
   "execution_count": 7,
   "metadata": {},
   "outputs": [],
   "source": [
    "from sklearn.model_selection import GridSearchCV\n",
    "\n",
    "params = {\n",
    "    'n_components': [6, 8, 10, 12], # Maybe we can get away with fewer n_components (memory)\n",
    "    'learning_decay': [0.75, 0.80, 0.85]\n",
    "}\n",
    "\n",
    "lda_search = GridSearchCV(lda,\n",
    "                          param_grid=params,\n",
    "                          cv=3,\n",
    "                          return_train_score=False)\n",
    "\n",
    "lda_search.fit(UP_orders_num['train'])\n",
    "\n",
    "results = pd.DataFrame(lda_search.cv_results_)"
   ]
  },
  {
   "cell_type": "code",
   "execution_count": 8,
   "metadata": {},
   "outputs": [
    {
     "data": {
      "image/png": "[encoded data removed]",
      "text/plain": [
       "<Figure size 864x576 with 1 Axes>"
      ]
     },
     "metadata": {},
     "output_type": "display_data"
    }
   ],
   "source": [
    "current_palette = sns.color_palette(\"Set2\", 3)\n",
    "\n",
    "plt.figure(figsize=(12,8))\n",
    "\n",
    "sns.lineplot(data=results,\n",
    "             x='param_n_components',\n",
    "             y='mean_test_score',\n",
    "             hue='param_learning_decay',\n",
    "             # https://github.com/mwaskom/seaborn/issues/1515\n",
    "             palette=current_palette,\n",
    "             marker='o'\n",
    "            )\n",
    "\n",
    "# # Would need a good way to show three error bars\n",
    "# plt.errorbar(x=results['param_n_components'],\n",
    "#              y=results.mean_test_score,\n",
    "#              yerr=results.std_test_score,\n",
    "#              fmt='none',\n",
    "#              color=current_palette[0])\n",
    "\n",
    "plt.show()"
   ]
  },
  {
   "cell_type": "code",
   "execution_count": 9,
   "metadata": {},
   "outputs": [
    {
     "data": {
      "text/html": [
       "<div>\n",
       "<style scoped>\n",
       "    .dataframe tbody tr th:only-of-type {\n",
       "        vertical-align: middle;\n",
       "    }\n",
       "\n",
       "    .dataframe tbody tr th {\n",
       "        vertical-align: top;\n",
       "    }\n",
       "\n",
       "    .dataframe thead tr th {\n",
       "        text-align: left;\n",
       "    }\n",
       "\n",
       "    .dataframe thead tr:last-of-type th {\n",
       "        text-align: right;\n",
       "    }\n",
       "</style>\n",
       "<table border=\"1\" class=\"dataframe\">\n",
       "  <thead>\n",
       "    <tr>\n",
       "      <th></th>\n",
       "      <th colspan=\"4\" halign=\"left\">mean_test_score</th>\n",
       "    </tr>\n",
       "    <tr>\n",
       "      <th>param_n_components</th>\n",
       "      <th>6</th>\n",
       "      <th>8</th>\n",
       "      <th>10</th>\n",
       "      <th>12</th>\n",
       "    </tr>\n",
       "    <tr>\n",
       "      <th>param_learning_decay</th>\n",
       "      <th></th>\n",
       "      <th></th>\n",
       "      <th></th>\n",
       "      <th></th>\n",
       "    </tr>\n",
       "  </thead>\n",
       "  <tbody>\n",
       "    <tr>\n",
       "      <th>0.75</th>\n",
       "      <td>-4.463476e+07</td>\n",
       "      <td>-4.448154e+07</td>\n",
       "      <td>-4.440775e+07</td>\n",
       "      <td>-4.435172e+07</td>\n",
       "    </tr>\n",
       "    <tr>\n",
       "      <th>0.80</th>\n",
       "      <td>-4.466195e+07</td>\n",
       "      <td>-4.446897e+07</td>\n",
       "      <td>-4.443465e+07</td>\n",
       "      <td>-4.434502e+07</td>\n",
       "    </tr>\n",
       "    <tr>\n",
       "      <th>0.85</th>\n",
       "      <td>-4.457765e+07</td>\n",
       "      <td>-4.446281e+07</td>\n",
       "      <td>-4.435477e+07</td>\n",
       "      <td>-4.429817e+07</td>\n",
       "    </tr>\n",
       "  </tbody>\n",
       "</table>\n",
       "</div>"
      ],
      "text/latex": [
       "\\begin{tabular}{lrrrr}\n",
       "\\toprule\n",
       "{} & \\multicolumn{4}{l}{mean\\_test\\_score} \\\\\n",
       "param\\_n\\_components &              6  &            8  &            10 &            12 \\\\\n",
       "param\\_learning\\_decay &                 &               &               &               \\\\\n",
       "\\midrule\n",
       "0.75                 &   -4.463476e+07 & -4.448154e+07 & -4.440775e+07 & -4.435172e+07 \\\\\n",
       "0.80                 &   -4.466195e+07 & -4.446897e+07 & -4.443465e+07 & -4.434502e+07 \\\\\n",
       "0.85                 &   -4.457765e+07 & -4.446281e+07 & -4.435477e+07 & -4.429817e+07 \\\\\n",
       "\\bottomrule\n",
       "\\end{tabular}\n"
      ],
      "text/plain": [
       "                     mean_test_score      ...                   \n",
       "param_n_components                6       ...                 12\n",
       "param_learning_decay                      ...                   \n",
       "0.75                   -4.463476e+07      ...      -4.435172e+07\n",
       "0.80                   -4.466195e+07      ...      -4.434502e+07\n",
       "0.85                   -4.457765e+07      ...      -4.429817e+07\n",
       "\n",
       "[3 rows x 4 columns]"
      ]
     },
     "execution_count": 9,
     "metadata": {},
     "output_type": "execute_result"
    }
   ],
   "source": [
    "# Values for the above plot\n",
    "results[['param_learning_decay',\n",
    "         'param_n_components',\n",
    "         'mean_test_score']].pivot('param_learning_decay',\n",
    "                                  'param_n_components')"
   ]
  },
  {
   "cell_type": "code",
   "execution_count": 10,
   "metadata": {},
   "outputs": [
    {
     "data": {
      "text/html": [
       "<div>\n",
       "<style scoped>\n",
       "    .dataframe tbody tr th:only-of-type {\n",
       "        vertical-align: middle;\n",
       "    }\n",
       "\n",
       "    .dataframe tbody tr th {\n",
       "        vertical-align: top;\n",
       "    }\n",
       "\n",
       "    .dataframe thead tr th {\n",
       "        text-align: left;\n",
       "    }\n",
       "\n",
       "    .dataframe thead tr:last-of-type th {\n",
       "        text-align: right;\n",
       "    }\n",
       "</style>\n",
       "<table border=\"1\" class=\"dataframe\">\n",
       "  <thead>\n",
       "    <tr>\n",
       "      <th></th>\n",
       "      <th colspan=\"4\" halign=\"left\">std_test_score</th>\n",
       "    </tr>\n",
       "    <tr>\n",
       "      <th>param_n_components</th>\n",
       "      <th>6</th>\n",
       "      <th>8</th>\n",
       "      <th>10</th>\n",
       "      <th>12</th>\n",
       "    </tr>\n",
       "    <tr>\n",
       "      <th>param_learning_decay</th>\n",
       "      <th></th>\n",
       "      <th></th>\n",
       "      <th></th>\n",
       "      <th></th>\n",
       "    </tr>\n",
       "  </thead>\n",
       "  <tbody>\n",
       "    <tr>\n",
       "      <th>0.75</th>\n",
       "      <td>216817.367738</td>\n",
       "      <td>185686.500333</td>\n",
       "      <td>160712.477994</td>\n",
       "      <td>228169.482819</td>\n",
       "    </tr>\n",
       "    <tr>\n",
       "      <th>0.80</th>\n",
       "      <td>269358.882712</td>\n",
       "      <td>206802.265149</td>\n",
       "      <td>230983.013780</td>\n",
       "      <td>210123.253409</td>\n",
       "    </tr>\n",
       "    <tr>\n",
       "      <th>0.85</th>\n",
       "      <td>156826.207775</td>\n",
       "      <td>193444.121926</td>\n",
       "      <td>177750.127528</td>\n",
       "      <td>148142.774307</td>\n",
       "    </tr>\n",
       "  </tbody>\n",
       "</table>\n",
       "</div>"
      ],
      "text/latex": [
       "\\begin{tabular}{lrrrr}\n",
       "\\toprule\n",
       "{} & \\multicolumn{4}{l}{std\\_test\\_score} \\\\\n",
       "param\\_n\\_components &             6  &             8  &             10 &             12 \\\\\n",
       "param\\_learning\\_decay &                &                &                &                \\\\\n",
       "\\midrule\n",
       "0.75                 &  216817.367738 &  185686.500333 &  160712.477994 &  228169.482819 \\\\\n",
       "0.80                 &  269358.882712 &  206802.265149 &  230983.013780 &  210123.253409 \\\\\n",
       "0.85                 &  156826.207775 &  193444.121926 &  177750.127528 &  148142.774307 \\\\\n",
       "\\bottomrule\n",
       "\\end{tabular}\n"
      ],
      "text/plain": [
       "                     std_test_score      ...                     \n",
       "param_n_components               6       ...                   12\n",
       "param_learning_decay                     ...                     \n",
       "0.75                  216817.367738      ...        228169.482819\n",
       "0.80                  269358.882712      ...        210123.253409\n",
       "0.85                  156826.207775      ...        148142.774307\n",
       "\n",
       "[3 rows x 4 columns]"
      ]
     },
     "execution_count": 10,
     "metadata": {},
     "output_type": "execute_result"
    }
   ],
   "source": [
    "# std for the values in the above plot\n",
    "results[['param_learning_decay',\n",
    "         'param_n_components',\n",
    "         'std_test_score']].pivot('param_learning_decay',\n",
    "                                  'param_n_components')"
   ]
  }
 ],
 "metadata": {
  "kernelspec": {
   "display_name": "Python 3",
   "language": "python",
   "name": "python3"
  },
  "language_info": {
   "codemirror_mode": {
    "name": "ipython",
    "version": 3
   },
   "file_extension": ".py",
   "mimetype": "text/x-python",
   "name": "python",
   "nbconvert_exporter": "python",
   "pygments_lexer": "ipython3",
   "version": "3.6.4"
  }
 },
 "nbformat": 4,
 "nbformat_minor": 1
}
